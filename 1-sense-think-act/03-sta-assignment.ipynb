{
 "cells": [
  {
   "cell_type": "markdown",
   "metadata": {},
   "source": [
    "# Sense-Think-Act Assignment\n",
    "\n",
    "[![nbviewer](https://raw.githubusercontent.com/jupyter/design/master/logos/Badges/nbviewer_badge.svg)](https://nbviewer.jupyter.org/github/Foundations-of-Robotics/foundations-of-robotics-labs/blob/master/1-sense-think-act/03-sta-assignment.ipynb)\n",
    "[![Binder](https://mybinder.org/badge_logo.svg)](https://mybinder.org/v2/gh/Foundations-of-Robotics/foundations-of-robotics-labs/master?filepath=1-sense-think-act/03-sta-assignment.ipynb)\n",
    "\n",
    "The goal of this assignment is to implement a simple robot control algorithm that can detect light intensity and spin the robot in response to high intensity light."
   ]
  },
  {
   "cell_type": "markdown",
   "metadata": {},
   "source": [
    "## Demonstration\n",
    "\n",
    "The following video demonstrates the expected robot's behaviour:\n",
    "\n",
    "<iframe width=\"560\" height=\"315\" src=\"https://www.youtube.com/embed/kxwQ-6f3SEI?si=eoZRijScd-9a150t\" title=\"STA Assignment Demo\" frameborder=\"0\" allow=\"accelerometer; clipboard-write; encrypted-media; gyroscope; picture-in-picture; web-share\" allowfullscreen></iframe>"
   ]
  },
  {
   "cell_type": "markdown",
   "metadata": {},
   "source": [
    "## Method\n",
    "\n",
    "To complete the assignment, you must first break down the project into smaller, manageable components.​\n",
    "\n",
    "1. Reading the ambient light sensor​\n",
    "1. Identifying the threshold LUX value for the robot spin​\n",
    "1. Controlling the motors (actuators) on RVR​\n",
    "1. Spinning the RVR​\n",
    "1. Logic to connect sensor input to the actuation output​\n",
    "1. Putting it all together within a ‘Sense, Think, Act’ loop\n",
    "\n",
    "#### Light Sensor\n",
    "\n",
    "The light sensor is located on the front of the RVR. It is a digital sensor that returns a number. The higher the value, the brighter the light.​\n",
    "\n",
    "#### Threshold Value\n",
    "\n",
    "The threshold value is the value at which the robot will spin. You will need to experiment with different values to find the best one.​\n",
    "\n",
    "#### Motor Control\n",
    "\n",
    "The rover responds to twist commands. The twist command is a combination of linear and angular velocity. The linear velocity is the speed at which the robot moves forward or backward. The angular velocity is the speed at which the robot spins.​\n",
    "\n",
    "The `cmd_vel` topic is a standard topic used to send twist commands to a robot. The message type is `geometry_msgs/Twist`.​"
   ]
  },
  {
   "cell_type": "code",
   "execution_count": null,
   "metadata": {},
   "outputs": [],
   "source": [
    "\"\"\"\n",
    "Sense Think Act Assignment:\n",
    "\n",
    "This is the main file for the assignment. You need to modify this file.\n",
    "\n",
    "(Hint) Make a class for your algorithm adapting snippets from the previous notebooks\n",
    "\"\"\"\n",
    "\n",
    "\n",
    "'''\n",
    "Import some modules\n",
    "'''\n",
    "\n",
    "\n",
    "'''\n",
    "class definition\n",
    "'''\n"
   ]
  }
 ],
 "metadata": {
  "language_info": {
   "name": "python"
  }
 },
 "nbformat": 4,
 "nbformat_minor": 2
}
