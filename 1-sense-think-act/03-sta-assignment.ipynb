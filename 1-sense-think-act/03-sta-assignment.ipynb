{
 "cells": [
  {
   "cell_type": "markdown",
   "metadata": {},
   "source": [
    "# Sense-Think-Act Assignment\n",
    "\n",
    "[![nbviewer](https://raw.githubusercontent.com/jupyter/design/master/logos/Badges/nbviewer_badge.svg)](https://nbviewer.jupyter.org/github/Foundations-of-Robotics/foundations-of-robotics-labs/blob/master/1-sense-think-act/03-sta-assignment.ipynb)\n",
    "[![Binder](https://mybinder.org/badge_logo.svg)](https://mybinder.org/v2/gh/Foundations-of-Robotics/foundations-of-robotics-labs/master?filepath=1-sense-think-act/03-sta-assignment.ipynb)\n",
    "\n",
    "The goal of this assignment is to implement a simple robot control algorithm that can detect light intensity and spin the robot in response to high intensity light."
   ]
  },
  {
   "cell_type": "markdown",
   "metadata": {},
   "source": [
    "## Demonstration\n",
    "\n",
    "The following video demonstrates the expected robot's behaviour:\n",
    "\n",
    "<iframe width=\"560\" height=\"315\" src=\"https://www.youtube.com/embed/kxwQ-6f3SEI?si=eoZRijScd-9a150t\" title=\"STA Assignment Demo\" frameborder=\"0\" allow=\"accelerometer; clipboard-write; encrypted-media; gyroscope; picture-in-picture; web-share\" allowfullscreen></iframe>"
   ]
  },
  {
   "cell_type": "markdown",
   "metadata": {},
   "source": [
    "## Method\n",
    "\n",
    "To complete the assignment, you must first break down the project into smaller, manageable components.​\n",
    "\n",
    "1. Reading the ambient light sensor​\n",
    "1. Identifying the threshold LUX value for the robot spin​\n",
    "1. Controlling the motors (actuators) on RVR​\n",
    "1. Spinning the RVR​\n",
    "1. Logic to connect sensor input to the actuation output​\n",
    "1. Putting it all together within a ‘Sense, Think, Act’ loop\n",
    "\n",
    "![Ambient Light Sensor]()"
   ]
  },
  {
   "cell_type": "code",
   "execution_count": null,
   "metadata": {},
   "outputs": [],
   "source": []
  }
 ],
 "metadata": {
  "language_info": {
   "name": "python"
  }
 },
 "nbformat": 4,
 "nbformat_minor": 2
}
