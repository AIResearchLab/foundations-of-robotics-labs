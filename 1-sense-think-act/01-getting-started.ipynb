{
 "cells": [
  {
   "cell_type": "markdown",
   "metadata": {},
   "source": [
    "# Sphero RVR ROS - Getting Started\n",
    "\n",
    "The [Sphero RVR](<https://sphero.com/pages/sphero-rvr-resources>) is a rugged, all-terrain programmable robot that you can drive, code, and customize. RVR is equipped with a powerful motor, all-terrain treads, and plenty of torque so you can go faster and farther. Obstacles or uneven surfaces won't affect RVR's ability to drive straight.\n",
    "\n",
    "<a href=\"https://youtu.be/GtJXZzbfk1A?si=YKPfneI73XtWtxrK\"><img src=\"./docs/images/sphero-rvr.webp\" alt=\"Sphero RVR\" width=\"400\" href=\"https://sphero.com/pages/sphero-rvr-resources\"/></a>"
   ]
  },
  {
   "cell_type": "markdown",
   "metadata": {},
   "source": [
    "## How it works\n",
    "\n",
    "The Sphero RVR ROS package is a [***`wrapper`***](<https://en.wikipedia.org/wiki/Wrapper_library>) around the [Sphero SDK](<https://sdk.sphero.com/raspberry-pi-setup>). The package provides a ROS interface to the Sphero RVR robot. The package provides a [ROS node](<http://wiki.ros.org/Nodes>) that communicates with the Sphero RVR robot using the Sphero SDK.\n",
    "\n",
    "### Onboard micro computer\n",
    "\n",
    "The Sphero RVR robot is equipped with a Raspberry Pi computer. The Raspberry Pi is a computer that runs Linux. The Raspberry Pi is connected to the Sphero RVR robot's main microcontroller via a serial connection. The Raspberry Pi runs the ROS node that communicates with the Sphero RVR robot."
   ]
  },
  {
   "cell_type": "markdown",
   "metadata": {},
   "source": [
    "## Log into the Raspberry Pi\n",
    "\n",
    "The Raspberry Pi is running Linux. You can log into the Raspberry Pi using [SSH](<https://en.wikipedia.org/wiki/Secure_Shell>) (Secure Shell) from your computer. You can use a ***Terminal*** application on your computer to log into the Raspberry Pi.\n",
    "\n",
    "### Find the IP address of the Raspberry Pi\n",
    "\n",
    "Each Sphero RVR robot has a unique IP address. You need to work out the name of the rover to log into it. Each rover has a unique name. The name of the rover is printed on the **front** of the rover.\n",
    "\n",
    "The named address of the rover is the name of the rover with the `.local` suffix. For example, if the name of the rover is `rvr-1`, then the IP address of the rover is `rvr-1.local`.\n",
    "\n",
    "The IP address of the rover is the number `192.168.0.1xx` where `xx` is the number in the rover's name - printed on the **front** of the rover."
   ]
  },
  {
   "cell_type": "markdown",
   "metadata": {},
   "source": [
    "```bash\n",
    "# connect to the rover using one of the following addresses\n",
    "# in a terminal on your computer\n",
    "ssh student@robotics-xx.lan.robolab\n",
    "\n",
    "# or using mDNS (multicast DNS) address\n",
    "ssh student@robotics-xx.local\n",
    "\n",
    "# or using the IP Address\n",
    "ssh student@192.168.0.1xx\n",
    "```"
   ]
  },
  {
   "cell_type": "markdown",
   "metadata": {},
   "source": [
    "## Inspecting the ROS Network\n",
    "\n",
    "The ROS network is a collection of computers that are running ROS nodes. The ROS nodes communicate with each other using the ROS network. The ROS network is a ***peer-to-peer*** network. This means that there is no central server. Each computer in the ROS network is a ***peer***. Each peer can communicate with any other peer in the ROS network.\n",
    "\n",
    "### ROS CLI Commands\n",
    "\n",
    "The ROS CLI provides commands that you can use to inspect the ROS network."
   ]
  },
  {
   "cell_type": "markdown",
   "metadata": {},
   "source": [
    "```bash\n",
    "# while logged into the Raspberry Pi\n",
    "# list the ROS nodes\n",
    "rosnode list\n",
    "\n",
    "# list the ROS topics\n",
    "rostopic list\n",
    "\n",
    "# list the ROS services\n",
    "rosservice list\n",
    "```"
   ]
  },
  {
   "cell_type": "markdown",
   "metadata": {},
   "source": [
    "### Inspecting message data\n",
    "\n",
    "You can use the ROS CLI to inspect the data that is being published on a ROS topic."
   ]
  },
  {
   "cell_type": "markdown",
   "metadata": {},
   "source": [
    "```bash\n",
    "# while logged into the Raspberry Pi\n",
    "# inspect the data on a ROS topic\n",
    "rostopic echo /topic_name\n",
    "```"
   ]
  },
  {
   "cell_type": "markdown",
   "metadata": {},
   "source": [
    "## Jupyter on the Raspberry Pi\n",
    "\n",
    "The Raspberry Pi is running a [Jupyter](<https://jupyter.org/>) server. Jupyter is a web application that you can use to run Python code.\n",
    "\n",
    "### Connecting to Jupyter\n",
    "\n",
    "You can connect to the Jupyter server running on the Raspberry Pi using a web browser on your computer. The Jupyter server is running on port **`8888`**. You can connect to the Jupyter server using the IP address of the Raspberry Pi."
   ]
  },
  {
   "cell_type": "markdown",
   "metadata": {},
   "source": [
    "```bash\n",
    "# in a web browser on your computer\n",
    "# navigate to the Jupyter server\n",
    "http://robotics-xx.lan.robolab:8888\n",
    "\n",
    "# or using the IP Address\n",
    "http://192.168.0.1xx:8888\n",
    "```"
   ]
  }
 ],
 "metadata": {
  "language_info": {
   "name": "python"
  }
 },
 "nbformat": 4,
 "nbformat_minor": 2
}
