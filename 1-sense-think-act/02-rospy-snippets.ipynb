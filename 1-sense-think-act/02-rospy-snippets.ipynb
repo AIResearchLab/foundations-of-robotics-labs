{
 "cells": [
  {
   "cell_type": "markdown",
   "metadata": {},
   "source": [
    "# rospy Snippets\n",
    "\n",
    "[![nbviewer](https://raw.githubusercontent.com/jupyter/design/master/logos/Badges/nbviewer_badge.svg)](https://nbviewer.jupyter.org/github/Foundations-of-Robotics/foundations-of-robotics-labs/blob/master/1-sense-think-act/02-rospy-snippets.ipynb)\n",
    "[![Binder](https://mybinder.org/badge_logo.svg)](https://mybinder.org/v2/gh/Foundations-of-Robotics/foundations-of-robotics-labs/master?filepath=1-sense-think-act/02-rospy-snippets.ipynb)\n",
    "\n",
    "The Sphero RVR is a great robot for learning some robotics, but how do we work with ROS? This tutorial will show you how to use snippets of ROS code using rospy in python to interact with the RVR."
   ]
  },
  {
   "cell_type": "markdown",
   "metadata": {},
   "source": [
    "## Receiving Messages\n",
    "\n",
    "A core part of ROS programming is the use of ***`callback`*** functions. In ROS, A callback function is executed when a message is received on a topic. This is common place in many programs that perform communications. Messaging applications such as Messenger, Slack, or Discord also use a callback pattern pass to messages around the world.\n",
    "\n",
    "The following code snippet shows how to create a callback function, subscribe to a topic, and execute the callback function when a message is received."
   ]
  },
  {
   "cell_type": "code",
   "execution_count": null,
   "metadata": {},
   "outputs": [],
   "source": [
    "\"\"\"receiving message data\"\"\"\n",
    "\n",
    "\n",
    "# import python libraries\n",
    "import rospy # ros library for python\n",
    "\n",
    "\n",
    "# create a class to subscribe to sensor messages and show the data\n",
    "class SubscribeAndShowNode():\n",
    "    def __init__(self):\n",
    "        # initialize the node with rospy\n",
    "        rospy.init_node('subscribe_and_show_node')\n",
    "        # subscribe to the topic /sensor_data\n",
    "        rospy.Subscriber('/sensor_data', String, self.callback)\n",
    "        # spin() simply keeps python from exiting until this node is stopped\n",
    "        rospy.spin()\n",
    "\n",
    "    # callback function to receive the data\n",
    "    def callback(self, data):\n",
    "        # print the data received\n",
    "        rospy.loginfo(rospy.get_caller_id() + 'I heard %s', data.data)\n",
    "\n",
    "\n",
    "# main function\n",
    "def main():\n",
    "    try:\n",
    "        SubscribeAndShowNode()\n",
    "    except rospy.ROSInterruptException:\n",
    "        pass"
   ]
  },
  {
   "cell_type": "markdown",
   "metadata": {},
   "source": [
    "#### Test out subscribing to a topic\n",
    "\n",
    "Run the following code snippet to see how to subscribe to a topic and print out the message. Inspect the ROS Network Graph to see the node that was created and the topic it is subscribing to."
   ]
  },
  {
   "cell_type": "code",
   "execution_count": null,
   "metadata": {},
   "outputs": [],
   "source": [
    "\"\"\"run the main function to start the node and test it\"\"\"\n",
    "\n",
    "\n",
    "# import a user interface library\n",
    "import ipywidgets as widgets\n",
    "\n",
    "\n",
    "# create a button to start the node\n",
    "button = widgets.Button(description=\"Start node\")\n",
    "# create a button to stop the node\n",
    "button_stop = widgets.Button(description=\"Stop node\")\n",
    "\n",
    "# create a function to start the node\n",
    "def start_node(button):\n",
    "    # start the node\n",
    "    main()\n",
    "    # disable the start button\n",
    "    button.disabled = True\n",
    "    # enable the stop button\n",
    "    button_stop.disabled = False\n",
    "\n",
    "# create a function to stop the node\n",
    "def stop_node(button):\n",
    "    # stop the node\n",
    "    rospy.signal_shutdown('subscribe_and_show_node')\n",
    "    # disable the stop button\n",
    "    button.disabled = True\n",
    "    # enable the start button\n",
    "    button_stop.disabled = False\n",
    "\n",
    "# add the start_node function to the button\n",
    "button.on_click(start_node)\n",
    "# add the stop_node function to the button\n",
    "button_stop.on_click(stop_node)\n",
    "\n",
    "# display the buttons\n",
    "display(button, button_stop)"
   ]
  },
  {
   "cell_type": "markdown",
   "metadata": {},
   "source": [
    "## Sending Commands\n",
    "\n",
    "Sending commands in a ROS application is very similar to receiving messages but instead of reveiving messages, you are sending them. Another component in the system will listen for and receive these messages. The following code snippet shows how to create a ***`publisher`***, publish a message, and shutdown the publisher."
   ]
  },
  {
   "cell_type": "code",
   "execution_count": null,
   "metadata": {},
   "outputs": [],
   "source": [
    "\"\"\"sending commands to the robot to move it\"\"\"\n",
    "\n",
    "\n",
    "# import python libraries\n",
    "import rospy # ros library for python\n",
    "import\n",
    "\n",
    "\n",
    "# create a class to send commands to the robot\n"
   ]
  },
  {
   "cell_type": "markdown",
   "metadata": {},
   "source": [
    "## ROS-Style Loops\n",
    "\n",
    "In robotics it is common to have a loop of activities that runs continuously at regular intervals. This is often referred to as a loop in programming. The best practice for creating loops in a ROS application is to use a ***`Timer`***. The following code snippet shows how to create a ROS-Style loop using a ROS Timer."
   ]
  },
  {
   "cell_type": "code",
   "execution_count": null,
   "metadata": {},
   "outputs": [],
   "source": [
    "\"\"\"timer based loop\"\"\"\n",
    "\n",
    "\n",
    "import rospy # ros library for python\n",
    "\n",
    "\n",
    "# create a class to send commands to the robot\n",
    "class TimerBasedLoopNode():\n",
    "    def __init__(self):\n",
    "        # initialize the node with rospy\n",
    "        rospy.init_node('timer_based_loop_node')\n",
    "        # create a timer to call the callback function every 1 second\n",
    "        self.timer = rospy.Timer(rospy.Duration(1.0), self.callback)\n",
    "        # spin() simply keeps python from exiting until this node is stopped\n",
    "        rospy.spin()\n",
    "\n",
    "    # callback function to send commands to the robot\n",
    "    def callback(self, event):\n",
    "        # create a publisher to send commands to the robot\n",
    "        pub = rospy.Publisher('/robot_commands', String, queue_size=10)\n",
    "        # create a string message\n",
    "        msg = String()\n",
    "        # add the command to the message\n",
    "        msg.data = 'move forward'\n",
    "        # publish the message\n",
    "        pub.publish(msg)"
   ]
  },
  {
   "cell_type": "markdown",
   "metadata": {},
   "source": [
    "## Putting it all together\n",
    "\n",
    "Now that we have seen how to receive messages, send commands, and create ROS-style loops, we can put it all together to create a simple ROS program. The following code snippet shows how to create a ROS node that receives messages from the RVR's IMU and sends commands to the RVR's motors."
   ]
  },
  {
   "cell_type": "code",
   "execution_count": null,
   "metadata": {},
   "outputs": [],
   "source": []
  }
 ],
 "metadata": {
  "language_info": {
   "name": "python"
  }
 },
 "nbformat": 4,
 "nbformat_minor": 2
}
