{
 "cells": [
  {
   "cell_type": "markdown",
   "metadata": {},
   "source": [
    "# Sphero RVR ROS - ROS Tools\n",
    "\n",
    "[![nbviewer](https://raw.githubusercontent.com/jupyter/design/master/logos/Badges/nbviewer_badge.svg)](https://nbviewer.jupyter.org/github/AIResearchLab/foundations-of-robotics-labs/blob/master/1-sense-think-act/01-ros-tooling.ipynb)\n",
    "[![Binder](https://mybinder.org/badge_logo.svg)](https://mybinder.org/v2/gh/AIResearchLab/foundations-of-robotics-labs/master?filepath=1-sense-think-act/01-ros-tooling.ipynb)\n",
    "\n",
    "The ROS ecosystem offers myriad tools to help robotics developers to work on and manage their robots."
   ]
  },
  {
   "cell_type": "markdown",
   "metadata": {},
   "source": [
    "## Teleoperation\n",
    "\n",
    "Teleoperation is the process of controlling a robot from a distance. In the context of ROS, teleoperation is the process of controlling a robot using a computer. The `teleop_twist_keyboard` package is a ROS package that allows you to control a robot using the keyboard. It publishes `geometry_msgs/Twist` messages to the `/cmd_vel` topic."
   ]
  },
  {
   "cell_type": "markdown",
   "metadata": {},
   "source": [
    "### Run the teleop_twist_keyboard package\n",
    "\n",
    "To run the `teleop_twist_keyboard` package, you can use the following command:\n",
    "\n",
    "```bash\n",
    "# in a terminal on the RVR\n",
    "rosrun teleop_twist_keyboard teleop_twist_keyboard.py\n",
    "```\n",
    "\n",
    "You can then use the following keys to control the robot:\n",
    "\n",
    "- `i`: move forward\n",
    "- `,`: move backward\n",
    "- `j`: turn left\n",
    "- `l`: turn right\n",
    "- `u`: move diagonally forward and to the left\n",
    "- `o`: move diagonally forward and to the right\n",
    "- `m`: move diagonally backward and to the left\n",
    "- `.`: move diagonally backward and to the right\n",
    "- `k`: stop"
   ]
  },
  {
   "cell_type": "markdown",
   "metadata": {},
   "source": [
    "### Drive the RVR using differntial drive markers\n",
    "\n",
    "You can also use the `rviz` tool to drive the RVR using the `diff drive controller` markers. To do so, you can use the following command:\n",
    "\n",
    "```bash\n",
    "# in a terminal on the remote laptop to run rviz\n",
    "roslaunch sphero_rvr_desktop display.launch\n",
    "```\n",
    "\n",
    "Grab the `diff drive controller` marker and move it around to drive the RVR."
   ]
  },
  {
   "cell_type": "markdown",
   "metadata": {},
   "source": []
  }
 ],
 "metadata": {
  "language_info": {
   "name": "python"
  }
 },
 "nbformat": 4,
 "nbformat_minor": 2
}
