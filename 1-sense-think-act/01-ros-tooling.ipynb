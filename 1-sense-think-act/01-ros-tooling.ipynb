{
 "cells": [
  {
   "cell_type": "markdown",
   "metadata": {},
   "source": [
    "# Sphero RVR ROS - ROS Tools\n",
    "\n",
    "[![nbviewer](https://raw.githubusercontent.com/jupyter/design/master/logos/Badges/nbviewer_badge.svg)](https://nbviewer.jupyter.org/github/AIResearchLab/foundations-of-robotics-labs/blob/master/1-sense-think-act/01-ros-tooling.ipynb)\n",
    "[![Binder](https://mybinder.org/badge_logo.svg)](https://mybinder.org/v2/gh/AIResearchLab/foundations-of-robotics-labs/master?filepath=1-sense-think-act/01-ros-tooling.ipynb)\n",
    "\n",
    "The ROS ecosystem offers myriad tools to help robotics developers to work on and manage their robots."
   ]
  },
  {
   "cell_type": "markdown",
   "metadata": {},
   "source": [
    "---"
   ]
  },
  {
   "cell_type": "markdown",
   "metadata": {},
   "source": [
    "## Linux Network Tools - Brief\n",
    "\n",
    "some network tools that are useful for debugging and monitoring network issues.\n",
    "\n",
    "#### `ifconfig`\n",
    "\n",
    "`ifconfig` is a command-line utility that is used to check and configure network interfaces. It is available in Unix-based operating systems and is used for network interface configuration.\n",
    "\n",
    "```bash\n",
    "ifconfig # shows a list of all network interfaces\n",
    "```\n",
    "\n",
    "#### `ping`\n",
    "\n",
    "`ping` is a computer network administration software utility used to test the reachability of a host on an Internet Protocol (IP) network. It measures the round-trip time for messages sent from the originating host to a destination computer that are echoed back to the source.\n",
    "\n",
    "```bash\n",
    "ping google.com # sends a ping request to google.com\n",
    "```\n",
    "\n",
    "#### `netstat`\n",
    "\n",
    "`netstat` is a command-line network utility that displays network connections for the Transmission Control Protocol (both incoming and outgoing), routing tables, and a number of network interface (network interface controller or software-defined network interface) and network protocol statistics.\n",
    "\n",
    "```bash\n",
    "netstat -tuln # shows all listening ports\n",
    "```"
   ]
  },
  {
   "cell_type": "markdown",
   "metadata": {},
   "source": [
    "---"
   ]
  },
  {
   "cell_type": "markdown",
   "metadata": {},
   "source": [
    "## Teleoperation\n",
    "\n",
    "Teleoperation is the process of controlling a robot from a distance. In the context of ROS, teleoperation is the process of controlling a robot using a computer. The `teleop_twist_keyboard` package is a ROS package that allows you to control a robot using the keyboard. It publishes `geometry_msgs/Twist` messages to the `/cmd_vel` topic."
   ]
  },
  {
   "cell_type": "markdown",
   "metadata": {},
   "source": [
    "### Run the teleop_twist_keyboard package\n",
    "\n",
    "To run the `teleop_twist_keyboard` package, you can use the following command:\n",
    "\n",
    "```bash\n",
    "# in a terminal on the RVR\n",
    "rosrun teleop_twist_keyboard teleop_twist_keyboard.py\n",
    "```\n",
    "\n",
    "You can then use the following keys to control the robot:\n",
    "\n",
    "- `i`: move forward\n",
    "- `,`: move backward\n",
    "- `j`: turn left\n",
    "- `l`: turn right\n",
    "- `u`: move diagonally forward and to the left\n",
    "- `o`: move diagonally forward and to the right\n",
    "- `m`: move diagonally backward and to the left\n",
    "- `.`: move diagonally backward and to the right\n",
    "- `k`: stop"
   ]
  },
  {
   "cell_type": "markdown",
   "metadata": {},
   "source": [
    "### Drive the RVR using differntial drive markers\n",
    "\n",
    "You can also use the `rviz` tool to drive the RVR using the `diff drive twist controller` markers. To do so, you can use the following command:\n",
    "\n",
    "```bash\n",
    "# in a terminal on the remote laptop to run rviz preconfigured for the RVR\n",
    "roslaunch sphero_rvr_desktop display.launch\n",
    "\n",
    "# in a terminal on the RVR to run the diff drive marker\n",
    "roslaunch sphero_rvr_controllers diff_drive_marker.launch\n",
    "```\n",
    "\n",
    "Grab the `diff drive` marker and move it around to drive the RVR."
   ]
  },
  {
   "cell_type": "markdown",
   "metadata": {},
   "source": []
  }
 ],
 "metadata": {
  "kernelspec": {
   "display_name": "Python 3 (ipykernel)",
   "language": "python",
   "name": "python3"
  },
  "language_info": {
   "codemirror_mode": {
    "name": "ipython",
    "version": 3
   },
   "file_extension": ".py",
   "mimetype": "text/x-python",
   "name": "python",
   "nbconvert_exporter": "python",
   "pygments_lexer": "ipython3",
   "version": "3.10.6"
  }
 },
 "nbformat": 4,
 "nbformat_minor": 4
}
