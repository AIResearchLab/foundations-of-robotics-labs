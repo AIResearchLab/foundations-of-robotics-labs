{
 "cells": [
  {
   "cell_type": "code",
   "execution_count": 1,
   "metadata": {},
   "outputs": [],
   "source": [
    "# Insérez ici le numéro de votre équipe\n",
    "VOTRE_NUMERO_EQUIPE = 0\n",
    "VOTRE_STATION = 1  # votre poste de travail au laboratoire [1, 2, 3 ou 4]\n",
    "VOTRE_ROBOT_REEL = 2  # indiqué derrière et manette Playsation (pas 02, juste 2 par exemple)\n",
    "# modifier cette variable selon que vous contrôler la simulation ou le robot réel\n",
    "SIM = False"
   ]
  },
  {
   "cell_type": "markdown",
   "metadata": {},
   "source": [
    "## Import des paquets Python"
   ]
  },
  {
   "cell_type": "code",
   "execution_count": 2,
   "metadata": {},
   "outputs": [],
   "source": [
    "# Import des paquets requis et configuration du ROS Master\n",
    "import sys; sys.path.append('/opt/ros/noetic/lib/python3/dist-packages')\n",
    "sys.path.append('/usr/lib/python3/dist-packages')\n",
    "sys.path.append('/home/admin_mec/mobile_manip_ws/devel/lib/python3/dist-packages/')\n",
    "from os import environ\n",
    "if SIM:\n",
    "    #environ['ROS_MASTER_URI'] = \"http://localhost:1137{}/\".format(VOTRE_NUMERO_EQUIPE)\n",
    "    environ['ROS_MASTER_URI'] = \"http://localhost:11311/\" #Ordi personnel\n",
    "else:\n",
    "    environ['ROS_MASTER_URI'] = \"http://cpr-ets05-0{}:11311/\".format(VOTRE_ROBOT_REEL)\n",
    "    environ['ROS_IP'] = \"192.168.0.8{}\".format(VOTRE_STATION)\n",
    "import rospy\n",
    "import numpy as np\n",
    "from jackal_msgs.msg import Drive\n",
    "from geometry_msgs.msg import Pose\n",
    "from geometry_msgs.msg import Twist as GT\n",
    "from sensor_msgs.msg import CompressedImage\n",
    "from apriltag_ros.msg import AprilTagDetectionArray\n",
    "from mobile_manip.srv import ReachName, GetValues, ReachValues"
   ]
  },
  {
   "cell_type": "code",
   "execution_count": 3,
   "metadata": {},
   "outputs": [
    {
     "name": "stderr",
     "output_type": "stream",
     "text": [
      "WARNING: cannot load logging configuration file, logging is disabled\n"
     ]
    }
   ],
   "source": [
    "# Créer et démarrer un nouveau noeud\n",
    "rospy.init_node('mobile_manip_controller', anonymous=True)"
   ]
  },
  {
   "cell_type": "markdown",
   "metadata": {},
   "source": [
    "## Création des 'callbacks'\n",
    "Chaque fonction est associée à un sujet ROS et enregistre en continue sont contenu dans une variable globale."
   ]
  },
  {
   "cell_type": "code",
   "execution_count": 4,
   "metadata": {},
   "outputs": [],
   "source": [
    "# AprilTag subscriber callback\n",
    "tag_array = AprilTagDetectionArray()\n",
    "def tag_callback(msg):\n",
    "    global tag_array\n",
    "    tag_array  = msg"
   ]
  },
  {
   "cell_type": "code",
   "execution_count": 5,
   "metadata": {},
   "outputs": [],
   "source": [
    "# Camera subscriber callback\n",
    "cam_msg = CompressedImage()\n",
    "def cam_callback(msg):\n",
    "    global cam_msg\n",
    "    cam_msg = msg"
   ]
  },
  {
   "cell_type": "code",
   "execution_count": 6,
   "metadata": {},
   "outputs": [],
   "source": [
    "# ROS subscribers et publishers\n",
    "cmd_drive_pub = rospy.Publisher('/mobile_manip/dingo_velocity_controller/cmd_drive', Drive, queue_size=1)\n",
    "if SIM:\n",
    "    cmd_vel_pub = rospy.Publisher('/mobile_manip/cmd_vel', GT, queue_size=1)\n",
    "else:\n",
    "    cmd_vel_pub = rospy.Publisher('/mobile_manip/base/cmd_vel', GT, queue_size=1)\n",
    "cam_sub = rospy.Subscriber('/mobile_manip/d435i/color/image_raw/compressed', CompressedImage, cam_callback)\n",
    "tag_sub = rospy.Subscriber('/tag_detections', AprilTagDetectionArray, tag_callback)"
   ]
  },
  {
   "cell_type": "markdown",
   "metadata": {},
   "source": [
    "## Contrôleur du mouvement"
   ]
  },
  {
   "cell_type": "code",
   "execution_count": 7,
   "metadata": {},
   "outputs": [],
   "source": [
    "interwheel_distance = 0.3765\n",
    "left_wheel_radius = 0.098\n",
    "right_wheel_radius = 0.098\n",
    "def move_robot(linear, angular):\n",
    "    vel_left  = (linear - angular * interwheel_distance / 2.0) / left_wheel_radius\n",
    "    vel_right = (linear + angular * interwheel_distance / 2.0) / right_wheel_radius\n",
    "\n",
    "    if SIM:\n",
    "        # Envoi des commandes au roues par topic ROS\n",
    "        cmd_drive_msg = Drive()\n",
    "        cmd_drive_msg.drivers[0] = vel_left\n",
    "        cmd_drive_msg.drivers[1] = vel_right\n",
    "        cmd_drive_pub.publish(cmd_drive_msg)\n",
    "\n",
    "    else:\n",
    "        # Envoi des commandes au controlleur du robot\n",
    "        cmd_vel_msg = GT()\n",
    "        cmd_vel_msg.linear.x = linear\n",
    "        cmd_vel_msg.angular.z = angular\n",
    "        cmd_vel_pub.publish(cmd_vel_msg)\n"
   ]
  },
  {
   "cell_type": "markdown",
   "metadata": {},
   "source": [
    "## Interface manuelle du Dingo\n",
    "Permet le contrôle du robot avec des flèches et un retour visuel de la caméra frontale."
   ]
  },
  {
   "cell_type": "code",
   "execution_count": 8,
   "metadata": {},
   "outputs": [
    {
     "data": {
      "application/vnd.jupyter.widget-view+json": {
       "model_id": "326d1503dedd4791aa865fa0a751f99f",
       "version_major": 2,
       "version_minor": 0
      },
      "text/plain": [
       "GridspecLayout(children=(Image(value=b'\\xff\\xd8\\xff\\xe0\\x00\\x10JFIF\\x00\\x01\\x01\\x00\\x00\\x01\\x00\\x01\\x00\\x00\\xf…"
      ]
     },
     "metadata": {},
     "output_type": "display_data"
    }
   ],
   "source": [
    "import ipywidgets as widgets\n",
    "from ipywidgets import GridspecLayout\n",
    "import threading\n",
    "import time\n",
    "\n",
    "btn_up = widgets.Button(icon='arrow-up')\n",
    "btn_left = widgets.Button(icon='arrow-left')\n",
    "btn_down = widgets.Button(icon='arrow-down')\n",
    "btn_right = widgets.Button(icon='arrow-right')\n",
    "btn_stop = widgets.Button(description='Stop')\n",
    "image = widgets.Image(\n",
    "        value=cam_msg.data,\n",
    "        format=\"png\",\n",
    "        height=\"40%\",\n",
    "        width=\"60%\")\n",
    "\n",
    "def update_plot():\n",
    "    while True:\n",
    "        image.value=cam_msg.data\n",
    "        time.sleep(0.1)\n",
    "\n",
    "def on_btn_up_clicked(b):\n",
    "    move_robot(0.5,0)\n",
    "        \n",
    "def on_btn_left_clicked(b):\n",
    "    move_robot(0,1.0)\n",
    "        \n",
    "def on_btn_down_clicked(b):\n",
    "    move_robot(-0.5,0)\n",
    "        \n",
    "def on_btn_right_clicked(b):\n",
    "    move_robot(0,-1.0)\n",
    "    \n",
    "def on_btn_stop_clicked(b):\n",
    "    move_robot(0,0)\n",
    "\n",
    "btn_up.on_click(on_btn_up_clicked)\n",
    "btn_left.on_click(on_btn_left_clicked)\n",
    "btn_down.on_click(on_btn_down_clicked)\n",
    "btn_right.on_click(on_btn_right_clicked)\n",
    "btn_stop.on_click(on_btn_stop_clicked)\n",
    "\n",
    "\n",
    "grid = GridspecLayout(4, 3,height='600px')\n",
    "\n",
    "grid[0,:] = image\n",
    "grid[1,1] = btn_up\n",
    "grid[2,0] = btn_left\n",
    "grid[2,1] = btn_stop\n",
    "grid[2,2] = btn_right\n",
    "grid[3,1] = btn_down\n",
    "thread = threading.Thread(target=update_plot)\n",
    "thread.start()\n",
    "grid"
   ]
  },
  {
   "cell_type": "markdown",
   "metadata": {},
   "source": [
    "## Fonctions de contrôle du Gen3Lite"
   ]
  },
  {
   "cell_type": "code",
   "execution_count": 9,
   "metadata": {},
   "outputs": [
    {
     "name": "stdout",
     "output_type": "stream",
     "text": [
      "res: False\n"
     ]
    }
   ],
   "source": [
    "# Pour lancer une position prédéfinie\n",
    "rospy.wait_for_service('/mobile_manip/reach_name')\n",
    "reach_recorded_pose = rospy.ServiceProxy('/mobile_manip/reach_name', ReachName)\n",
    "# pre-recorded pose are home, retract and vertical\n",
    "res1 = reach_recorded_pose(\"vertical\")\n",
    "print(res1)"
   ]
  },
  {
   "cell_type": "code",
   "execution_count": 10,
   "metadata": {},
   "outputs": [
    {
     "name": "stdout",
     "output_type": "stream",
     "text": [
      "val: [0.0571092888712883, -0.009969281032681465, 1.0032371282577515, 0.012723485939204693, 0.010381439700722694, 89.97567749023438]\n"
     ]
    }
   ],
   "source": [
    "# Pour obtenir les coordonnées actuelles de la pince\n",
    "rospy.wait_for_service('/mobile_manip/get_cartesian')\n",
    "get_pose = rospy.ServiceProxy('/mobile_manip/get_cartesian', GetValues)\n",
    "res2 = get_pose()\n",
    "print(res2)"
   ]
  },
  {
   "cell_type": "markdown",
   "metadata": {},
   "source": [
    "## Message de détection des marqueurs"
   ]
  },
  {
   "cell_type": "code",
   "execution_count": 11,
   "metadata": {},
   "outputs": [
    {
     "name": "stdout",
     "output_type": "stream",
     "text": [
      "Numero du marqueur : 8\n",
      "Position du marqueur :\n",
      "x: -0.14075994042215131\n",
      "y: -0.25706110681689914\n",
      "z: 0.6720367155871447\n",
      "Quaternion du marqueur :\n",
      "x: 0.7194079594241873\n",
      "y: -0.6888576189037131\n",
      "z: 0.043041194697330386\n",
      "w: 0.07794115956579006\n",
      "Eulers du marqueur :\n",
      "[ 87.28923356  -2.60512632 170.11804378]\n"
     ]
    }
   ],
   "source": [
    "from scipy.spatial.transform import Rotation as R\n",
    "if SIM:\n",
    "    T_cam2base = np.array([[0.16], [0.04], [0.463]])\n",
    "else:\n",
    "    T_cam2base = np.array([[0.0],[0.05], [-0.137]])\n",
    "if not tag_array.detections:\n",
    "        print(\"Aucun tag en vue\")\n",
    "else:\n",
    "    for tag in tag_array.detections:\n",
    "        print(\"Numero du marqueur : {}\".format(tag.id[0]))\n",
    "        print(\"Position du marqueur :\")\n",
    "        print(tag.pose.pose.pose.position)\n",
    "        print(\"Quaternion du marqueur :\")\n",
    "        print(tag.pose.pose.pose.orientation)\n",
    "        print(\"Eulers du marqueur :\")\n",
    "        rot = R.from_quat([tag.pose.pose.pose.orientation.x, tag.pose.pose.pose.orientation.y, tag.pose.pose.pose.orientation.z, tag.pose.pose.pose.orientation.w])\n",
    "        print(rot.as_euler('zyx', degrees=True))\n",
    "        if(tag.id[0]==8):\n",
    "            grab_pose = tag.pose.pose.pose.position\n",
    "            grab_orientation = tag.pose.pose.pose.orientation\n",
    "        if(tag.id[0]==3):\n",
    "            drop_pose = tag.pose.pose.pose.position\n",
    "            drop_orientation = tag.pose.pose.pose.orientation"
   ]
  },
  {
   "cell_type": "markdown",
   "metadata": {},
   "source": [
    "## Tourne et touche le tag"
   ]
  },
  {
   "cell_type": "code",
   "execution_count": 12,
   "metadata": {},
   "outputs": [
    {
     "name": "stdout",
     "output_type": "stream",
     "text": [
      "[[0.67182328]\n",
      " [0.19070112]\n",
      " [0.1200012 ]]\n"
     ]
    }
   ],
   "source": [
    "from scipy.spatial.transform import Rotation as R\n",
    "dist = 1.5\n",
    "if SIM:\n",
    "    T_cam2base = np.array([[0.16], [0.04], [0.463]])\n",
    "else:\n",
    "    T_cam2base = np.array([[0.0], [0.05], [-0.137]])\n",
    "\n",
    "while dist > 0.95:\n",
    "    # Tourne pour voir le tag\n",
    "    while not tag_array.detections:\n",
    "        move_robot(0.0, 0.5)\n",
    "    tag_pose = tag_array.detections[0].pose.pose.pose.position\n",
    "    tag_orientation = tag_array.detections[0].pose.pose.pose.orientation\n",
    "    # Convertit le tag dans le référentiel du bras\n",
    "    img_to_cam = R.from_euler('zyx',[-90,90,0],degrees=True)\n",
    "    tag_in_base_arm = np.matmul(img_to_cam.as_matrix(),np.array([[tag_pose.x],[tag_pose.y],[tag_pose.z]]))+T_cam2base\n",
    "    dist = np.sqrt((tag_in_base_arm[0])**2+(tag_in_base_arm[1])**2)\n",
    "    move_robot(0.1,0.0)\n",
    "\n",
    "print(tag_in_base_arm)\n",
    "move_robot(0, 0)"
   ]
  },
  {
   "cell_type": "code",
   "execution_count": 13,
   "metadata": {},
   "outputs": [],
   "source": [
    "# Touche le Tag\n",
    "# rospy.wait_for_service('/mobile_manip/reach_cartesian')\n",
    "# reach_pose = rospy.ServiceProxy('/mobile_manip/reach_cartesian', ReachValues)\n",
    "# effector_goal = [tag_in_base_arm[0], tag_in_base_arm[1], tag_in_base_arm[2], 0, 90, 0, 0.09]\n",
    "# print(effector_goal)\n",
    "# res3 = reach_pose(effector_goal)\n",
    "# print(res3)"
   ]
  },
  {
   "cell_type": "markdown",
   "metadata": {},
   "source": [
    "## Ramasse la bouteille"
   ]
  },
  {
   "cell_type": "markdown",
   "metadata": {},
   "source": [
    "### Ouvre la pince et revient à la vertical"
   ]
  },
  {
   "cell_type": "code",
   "execution_count": 14,
   "metadata": {},
   "outputs": [
    {
     "name": "stdout",
     "output_type": "stream",
     "text": [
      "res: True\n"
     ]
    }
   ],
   "source": [
    "rospy.wait_for_service('/mobile_manip/reach_gripper')\n",
    "reach_grip = rospy.ServiceProxy('/mobile_manip/reach_gripper', ReachValues)\n",
    "effector_open = [0.0]\n",
    "res3 = reach_grip(effector_open)\n",
    "rospy.wait_for_service('/mobile_manip/reach_name')\n",
    "reach_recorded_pose = rospy.ServiceProxy('/mobile_manip/reach_name', ReachName)\n",
    "res = reach_recorded_pose(\"vertical\")\n",
    "print(res3)"
   ]
  },
  {
   "cell_type": "code",
   "execution_count": 15,
   "metadata": {},
   "outputs": [],
   "source": [
    "# ATTENTION, il faut approcher la bouteille pour ne pas la faire tomber.\n",
    "# Connaissant sa position p/r au tag\n",
    "# On arriver par-dessus ou en face avant de s'y rendre pour la préhension.\n",
    "hauteur_bouteille = 0.20"
   ]
  },
  {
   "cell_type": "code",
   "execution_count": 16,
   "metadata": {},
   "outputs": [
    {
     "name": "stdout",
     "output_type": "stream",
     "text": [
      "[[ 0.17196477]\n",
      " [-0.4683811 ]\n",
      " [ 0.22513013]]\n"
     ]
    }
   ],
   "source": [
    "img_to_cam = R.from_euler('zyx',[-90,90,0],degrees=True)\n",
    "\n",
    "tag_to_img = R.from_quat([grab_orientation.x,grab_orientation.y,grab_orientation.z,grab_orientation.w])\n",
    "img_to_cam = R.from_euler('zyx',[-90,90,0],degrees=True)\n",
    "\n",
    "# Prennez vos mesures pour vous assurez des bons chiffres\n",
    "bouteille_fromtag = np.array([[0.050], [-0.680], [0.480]])\n",
    "\n",
    "bouteille_frombase = np.matmul(img_to_cam.as_matrix(),np.matmul(tag_to_img.as_matrix(),bouteille_fromtag))+tag_in_base_arm\n",
    "print(bouteille_frombase)"
   ]
  },
  {
   "cell_type": "code",
   "execution_count": 17,
   "metadata": {},
   "outputs": [
    {
     "name": "stdout",
     "output_type": "stream",
     "text": [
      "[array([0.17196477]), array([-0.4683811]), array([0.47513013]), 90, 0, 0, 0.01]\n",
      "res: False\n"
     ]
    }
   ],
   "source": [
    "rospy.wait_for_service('/mobile_manip/reach_cartesian')\n",
    "reach_pose = rospy.ServiceProxy('/mobile_manip/reach_cartesian', ReachValues)\n",
    "\n",
    "# Ici on ajoute la hauteur de la bouteille + un buff pour arriver par dessus\n",
    "buff = 0.05\n",
    "effector_goal = [bouteille_frombase[0], bouteille_frombase[1], bouteille_frombase[2]+hauteur_bouteille+buff, 90, 0, 0, 0.01]\n",
    "print(effector_goal)\n",
    "res3 = reach_pose(effector_goal)\n",
    "print(res3)"
   ]
  },
  {
   "cell_type": "code",
   "execution_count": 18,
   "metadata": {},
   "outputs": [
    {
     "name": "stdout",
     "output_type": "stream",
     "text": [
      "[0.05726919323205948, -0.009957121685147285, 0.8532176971435547, 0.032194193452596664, 0.012521139346063137, 89.98355865478516, 0.25]\n",
      "res: False\n"
     ]
    }
   ],
   "source": [
    "# On descend !\n",
    "rospy.wait_for_service('/mobile_manip/get_cartesian')\n",
    "get_pose = rospy.ServiceProxy('/mobile_manip/get_cartesian', GetValues)\n",
    "res2 = get_pose()\n",
    "currentpose = list(res2.val)\n",
    "currentpose[2] = currentpose[2]-buff-hauteur_bouteille/2  # 10 prend la bouteille à son centre\n",
    "currentpose.append(0.25)\n",
    "print(currentpose)\n",
    "res3 = reach_pose(currentpose)\n",
    "print(res3)"
   ]
  },
  {
   "cell_type": "markdown",
   "metadata": {},
   "source": [
    "### Ferme la pince"
   ]
  },
  {
   "cell_type": "code",
   "execution_count": 19,
   "metadata": {},
   "outputs": [
    {
     "name": "stdout",
     "output_type": "stream",
     "text": [
      "res: True\n"
     ]
    }
   ],
   "source": [
    "rospy.wait_for_service('/mobile_manip/reach_gripper')\n",
    "reach_grip = rospy.ServiceProxy('/mobile_manip/reach_gripper', ReachValues)\n",
    "effector_open = [0.8]\n",
    "res3 = reach_grip(effector_open)\n",
    "print(res3)"
   ]
  },
  {
   "cell_type": "code",
   "execution_count": 20,
   "metadata": {},
   "outputs": [
    {
     "name": "stdout",
     "output_type": "stream",
     "text": [
      "[0.057277191430330276, -0.009954185225069523, 1.103216862678528, 0.03304852545261383, 0.012948252260684967, 89.98432159423828, 0.25]\n",
      "res: False\n"
     ]
    }
   ],
   "source": [
    "# On lève !\n",
    "rospy.wait_for_service('/mobile_manip/get_cartesian')\n",
    "get_pose = rospy.ServiceProxy('/mobile_manip/get_cartesian', GetValues)\n",
    "res2 = get_pose()\n",
    "currentpose = list(res2.val)\n",
    "currentpose[2] = currentpose[2]+0.10  # soulève de 10 cm pour s'éloigner de la table\n",
    "currentpose.append(0.25)\n",
    "print(currentpose)\n",
    "res3 = reach_pose(currentpose)\n",
    "print(res3)"
   ]
  },
  {
   "cell_type": "markdown",
   "metadata": {},
   "source": [
    "## Déposer l'objet"
   ]
  },
  {
   "cell_type": "code",
   "execution_count": null,
   "metadata": {},
   "outputs": [],
   "source": []
  },
  {
   "cell_type": "code",
   "execution_count": null,
   "metadata": {},
   "outputs": [],
   "source": []
  },
  {
   "cell_type": "markdown",
   "metadata": {},
   "source": [
    "## Retour au HOME"
   ]
  },
  {
   "cell_type": "code",
   "execution_count": null,
   "metadata": {},
   "outputs": [],
   "source": []
  }
 ],
 "metadata": {
  "interpreter": {
   "hash": "767d51c1340bd893661ea55ea3124f6de3c7a262a8b4abca0554b478b1e2ff90"
  },
  "kernelspec": {
   "display_name": "Python 3 (ipykernel)",
   "language": "python",
   "name": "python3"
  },
  "language_info": {
   "codemirror_mode": {
    "name": "ipython",
    "version": 3
   },
   "file_extension": ".py",
   "mimetype": "text/x-python",
   "name": "python",
   "nbconvert_exporter": "python",
   "pygments_lexer": "ipython3",
   "version": "3.9.7"
  }
 },
 "nbformat": 4,
 "nbformat_minor": 4
}
