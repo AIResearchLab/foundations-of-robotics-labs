{
 "cells": [
  {
   "cell_type": "markdown",
   "metadata": {},
   "source": [
    "# Robot Perception\n",
    "\n",
    "[![nbviewer](https://raw.githubusercontent.com/jupyter/design/master/logos/Badges/nbviewer_badge.svg)](https://nbviewer.jupyter.org/github/AIResearchLab/foundations-of-robotics-labs/blob/master/5-inference/01-robot-perception.ipynb)\n",
    "[![Binder](https://mybinder.org/badge_logo.svg)](https://mybinder.org/v2/gh/AIResearchLab/foundations-of-robotics-labs/master?filepath=5-inference/01-robot-perception.ipynb)\n",
    "\n",
    "Robot perception is the process of extracting information from the environment using sensors. This information is used to make decisions and control the robot. In robotics the are two main types of perception:\n",
    "\n",
    "1. **proprioception** - the sense of the relative position of neighboring parts of the body and strength of effort being employed in movement. In other words, it is the sense of the relative position of the robot's body parts and the forces being applied to them. This is similar to the sense of touch in humans.\n",
    "2. **exteroception** - the sense of the environment around the robot. This is similar to the sense of sight, hearing, and smell in humans.\n",
    "\n",
    "In this notebook, we will focus on exteroception. We will look at how to use sensors to perceive the environment and how to process the sensor data to extract useful information."
   ]
  },
  {
   "cell_type": "code",
   "execution_count": null,
   "metadata": {},
   "outputs": [],
   "source": []
  }
 ],
 "metadata": {
  "language_info": {
   "name": "python"
  }
 },
 "nbformat": 4,
 "nbformat_minor": 2
}
