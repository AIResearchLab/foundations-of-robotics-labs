{
 "cells": [
  {
   "cell_type": "code",
   "execution_count": null,
   "metadata": {},
   "outputs": [],
   "source": [
    "# Import des paquets requis\n",
    "import sys; sys.path.append('/opt/ros/noetic/lib/python3/dist-packages/')\n",
    "from geometry_msgs.msg import Pose\n",
    "import numpy, math\n",
    "import rosbag"
   ]
  },
  {
   "cell_type": "code",
   "execution_count": null,
   "metadata": {},
   "outputs": [],
   "source": [
    "# Boucle pour lire l'ensemble du ROSBAG et extraire seulement les positions x/y\n",
    "R = []\n",
    "with rosbag.Bag(\"output.bag\", 'r') as in_bag:\n",
    "    for topic, msg, t in in_bag.read_messages():\n",
    "        if topic=='/chassis_pose':\n",
    "            # Append permet d'ajouter une valeur à la liste\n",
    "            # modifiez selon ce que vous souhaitez conserver\n",
    "            R.append(msg.position.x)"
   ]
  },
  {
   "cell_type": "code",
   "execution_count": null,
   "metadata": {},
   "outputs": [],
   "source": [
    "# Faites ici les calculs requis (utilisez numpy) pour la moyenne et la variance."
   ]
  },
  {
   "cell_type": "code",
   "execution_count": null,
   "metadata": {},
   "outputs": [],
   "source": []
  }
 ],
 "metadata": {
  "kernelspec": {
   "display_name": "Python 3 (ipykernel)",
   "language": "python",
   "name": "python3"
  },
  "language_info": {
   "codemirror_mode": {
    "name": "ipython",
    "version": 3
   },
   "file_extension": ".py",
   "mimetype": "text/x-python",
   "name": "python",
   "nbconvert_exporter": "python",
   "pygments_lexer": "ipython3",
   "version": "3.9.7"
  }
 },
 "nbformat": 4,
 "nbformat_minor": 4
}
