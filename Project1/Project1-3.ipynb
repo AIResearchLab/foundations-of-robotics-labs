{
 "cells": [
  {
   "cell_type": "code",
   "execution_count": null,
   "metadata": {},
   "outputs": [],
   "source": [
    "# Insérez ici le numéro de votre équipe\n",
    "VOTRE_NUMERO_EQUIPE = 0\n",
    "# modifier cette variable selon que vous contrôler la simulation ou le robot réel\n",
    "SIM = True"
   ]
  },
  {
   "cell_type": "code",
   "execution_count": null,
   "metadata": {},
   "outputs": [],
   "source": [
    "# Import des paquets requis et configuration du ROS Master\n",
    "import sys; sys.path.append('/opt/ros/noetic/lib/python3/dist-packages/')\n",
    "from os import environ\n",
    "if SIM:\n",
    "    environ['ROS_MASTER_URI'] = \"http://localhost:1137{}/\".format(VOTRE_NUMERO_EQUIPE)\n",
    "else:\n",
    "    environ['ROS_MASTER_URI'] = \"http://cpr-ets05-0X:11311/\" # X = votre numéro de Dingo\n",
    "    environ['ROS_IP'] = \"10.196.81.23\" # adresse IP de votre station de travail\n",
    "import rospy\n",
    "from std_msgs.msg import Float32MultiArray\n",
    "from jackal_msgs.msg import Drive\n",
    "from nav_msgs.msg import Odometry\n",
    "from geometry_msgs.msg import Pose\n",
    "from sensor_msgs.msg import Imu"
   ]
  },
  {
   "cell_type": "code",
   "execution_count": null,
   "metadata": {},
   "outputs": [],
   "source": [
    "# Création d'un nouveau contenant ROSBAG (en écriture)\n",
    "import rosbag\n",
    "test_bag = rosbag.Bag('output.bag', 'w')"
   ]
  },
  {
   "cell_type": "code",
   "execution_count": null,
   "metadata": {},
   "outputs": [],
   "source": [
    "# Créer et démarrer un nouveau noeud\n",
    "rospy.init_node('dingo_controller', anonymous=True)"
   ]
  },
  {
   "cell_type": "code",
   "execution_count": null,
   "metadata": {},
   "outputs": [],
   "source": [
    "# Position subscriber callback\n",
    "pose_msg = Pose()\n",
    "def joint_callback(msg):\n",
    "    global pose_msg\n",
    "    pose_msg  = msg.pose.pose"
   ]
  },
  {
   "cell_type": "code",
   "execution_count": null,
   "metadata": {},
   "outputs": [],
   "source": [
    "# UMI subscriber callback\n",
    "imu_msg = Imu()\n",
    "def imu_callback(msg):\n",
    "    global imu_msg\n",
    "    imu_msg = msg"
   ]
  },
  {
   "cell_type": "code",
   "execution_count": null,
   "metadata": {},
   "outputs": [],
   "source": [
    "# ROS subscribers et publishers\n",
    "cmd_drive_pub = rospy.Publisher('XXXX/cmd_drive', Drive, queue_size=1)\n",
    "pose_sub = rospy.Subscriber('XXX', Odometry, joint_callback)\n",
    "imu_sub = rospy.Subscriber('XXX', Imu, imu_callback)"
   ]
  },
  {
   "cell_type": "code",
   "execution_count": null,
   "metadata": {},
   "outputs": [],
   "source": [
    "# Impression des valeurs UMI et des encodeurs - pour tester\n",
    "print(\"Imu data: \")\n",
    "print(\"Orientation (quaternion): \", \n",
    "    imu_msg.orientation.x, imu_msg.orientation.y, \n",
    "    imu_msg.orientation.z, imu_msg.orientation.w\n",
    ")\n",
    "print(\"Angular velocity: \", \n",
    "    imu_msg.angular_velocity.x, imu_msg.angular_velocity.y, \n",
    "    imu_msg.angular_velocity.z\n",
    ")\n",
    "print(\"Linear acceleration: \", \n",
    "    imu_msg.linear_acceleration.x, imu_msg.linear_acceleration.y, \n",
    "    imu_msg.linear_acceleration.z\n",
    ")\n",
    "print(\"Position: \", \n",
    "    pose_msg.position.x, pose_msg.position.y\n",
    ")"
   ]
  },
  {
   "cell_type": "code",
   "execution_count": null,
   "metadata": {},
   "outputs": [],
   "source": [
    "# Déterminez les valeurs numériques de vitesse aux roues requises pour touner sur un cercle R=1m\n",
    "cmd_drive_msg = Drive()\n",
    "cmd_drive_msg.drivers[0] = 0.0\n",
    "cmd_drive_msg.drivers[1] = 0.0\n",
    "\n",
    "# Envoi des commandes au roues par topic ROS\n",
    "cmd_drive_pub.publish(cmd_drive_msg)"
   ]
  },
  {
   "cell_type": "code",
   "execution_count": null,
   "metadata": {},
   "outputs": [],
   "source": [
    "# Enregistrer la trajectoire pendant 20 secondes\n",
    "start = float(rospy.Time().now().secs)\n",
    "rate = rospy.Rate(50)\n",
    "while (float(rospy.Time().now().secs) - start) < 20:\n",
    "    test_bag.write('/imu', imu_msg, rospy.Time().now())\n",
    "    test_bag.write('/chassis_pose', pose_msg, rospy.Time().now())\n",
    "    rate.sleep()"
   ]
  },
  {
   "cell_type": "code",
   "execution_count": null,
   "metadata": {},
   "outputs": [],
   "source": [
    "# arrêter le robot\n",
    "cmd_drive_msg = Drive()\n",
    "cmd_drive_msg.drivers[0] = 0.0\n",
    "cmd_drive_msg.drivers[1] = 0.0\n",
    "\n",
    "# Envoi des commandes au roues par topic ROS\n",
    "cmd_drive_pub.publish(cmd_drive_msg)"
   ]
  },
  {
   "cell_type": "code",
   "execution_count": null,
   "metadata": {},
   "outputs": [],
   "source": [
    "# close the rosbag\n",
    "test_bag.close()"
   ]
  },
  {
   "cell_type": "code",
   "execution_count": null,
   "metadata": {},
   "outputs": [],
   "source": []
  }
 ],
 "metadata": {
  "kernelspec": {
   "display_name": "Python 3 (ipykernel)",
   "language": "python",
   "name": "python3"
  },
  "language_info": {
   "codemirror_mode": {
    "name": "ipython",
    "version": 3
   },
   "file_extension": ".py",
   "mimetype": "text/x-python",
   "name": "python",
   "nbconvert_exporter": "python",
   "pygments_lexer": "ipython3",
   "version": "3.9.7"
  }
 },
 "nbformat": 4,
 "nbformat_minor": 4
}
