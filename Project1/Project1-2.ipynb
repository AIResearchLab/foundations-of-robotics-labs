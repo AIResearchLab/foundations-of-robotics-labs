{
 "cells": [
  {
   "cell_type": "code",
   "execution_count": null,
   "metadata": {},
   "outputs": [],
   "source": [
    "# Insérez ici le numéro de votre équipe\n",
    "VOTRE_NUMERO_EQUIPE = 0"
   ]
  },
  {
   "cell_type": "code",
   "execution_count": null,
   "metadata": {},
   "outputs": [],
   "source": [
    "# Import des paquets requis et configuration du ROS Master\n",
    "import sys; sys.path.append('/opt/ros/noetic/lib/python3/dist-packages/')\n",
    "from os import environ\n",
    "environ['ROS_MASTER_URI'] = \"http://localhost:1137{}/\".format(VOTRE_NUMERO_EQUIPE)\n",
    "import rospy\n",
    "from jackal_msgs.msg import Drive"
   ]
  },
  {
   "cell_type": "markdown",
   "metadata": {},
   "source": [
    "### Configuration du script\n",
    "\n",
    "Ajoutez ici les valeurs géométriques du robot"
   ]
  },
  {
   "cell_type": "code",
   "execution_count": null,
   "metadata": {},
   "outputs": [],
   "source": [
    "# Compléter les variables suivantes avec les dimensions du robot en [m]\n",
    "interwheel_distance = 0.0\n",
    "left_wheel_radius = 0.0\n",
    "right_wheel_radius = 0.0"
   ]
  },
  {
   "cell_type": "code",
   "execution_count": null,
   "metadata": {},
   "outputs": [],
   "source": [
    "# Créer et démarrer un nouveau noeud\n",
    "rospy.init_node('dingo_controller', anonymous=True)"
   ]
  },
  {
   "cell_type": "code",
   "execution_count": null,
   "metadata": {},
   "outputs": [],
   "source": [
    "# ROS subscribers et publishers\n",
    "cmd_drive_pub = rospy.Publisher('XXX', Drive, queue_size=1)"
   ]
  },
  {
   "cell_type": "markdown",
   "metadata": {},
   "source": [
    "### Cinématique inverse"
   ]
  },
  {
   "cell_type": "code",
   "execution_count": null,
   "metadata": {},
   "outputs": [],
   "source": [
    "# Calcule les commandes à envoyer à chaque moteur-roue selon le mouvement désiré\n",
    "def move_robot(linear_vel, angular_vel):\n",
    "\n",
    "    # Tâche 2\n",
    "    # Vous devez compléter ici avec la cinématique inverse en termes de vitesses\n",
    "    # c'est-à-dire obtenir les vitesses des roues à partir des vitesses angulaire (angular_vel) et linéaire (linear_vel) désirées\n",
    "    vel_left  = 0.0\n",
    "    vel_right = 0.0\n",
    "\n",
    "    # Envoi des commandes au roues par topic ROS - ne pas modifier\n",
    "    cmd_drive_msg = Drive()\n",
    "\n",
    "    cmd_drive_msg.drivers[0] = vel_left\n",
    "    cmd_drive_msg.drivers[1] = vel_right\n",
    "\n",
    "    cmd_drive_pub.publish(cmd_drive_msg)"
   ]
  },
  {
   "cell_type": "markdown",
   "metadata": {},
   "source": [
    "### Test et validation"
   ]
  },
  {
   "cell_type": "code",
   "execution_count": null,
   "metadata": {},
   "outputs": [],
   "source": [
    "# Création d'une interface minimaliste pour valider la cinématique inverse - ne pas modifier\n",
    "import ipywidgets as widgets\n",
    "float_linear = widgets.FloatSlider(description='Linear velocity:', min=-10.0, max=10.0, step=0.01)\n",
    "float_angular = widgets.FloatSlider(description='Angular velocity:', min=-5.0, max=5.0, step=0.01)\n",
    "output_linear = widgets.Output()\n",
    "output_angular = widgets.Output()\n",
    "\n",
    "display(float_linear, output_linear)\n",
    "display(float_angular, output_angular)\n",
    "\n",
    "def on_value_change(change):\n",
    "    with output_linear:\n",
    "        linear = float_linear.value\n",
    "    with output_angular:\n",
    "        angular = float_angular.value\n",
    "    move_robot(linear, angular)\n",
    "\n",
    "float_linear.observe(on_value_change, names='value')\n",
    "float_angular.observe(on_value_change, names='value')\n",
    "\n",
    "#Ci-dessous des curseurs permettant d'envoyer immédiatement des valeurs de vitesse linéaire et angulaire au Jackal."
   ]
  },
  {
   "cell_type": "code",
   "execution_count": null,
   "metadata": {},
   "outputs": [],
   "source": []
  }
 ],
 "metadata": {
  "kernelspec": {
   "display_name": "Python 3 (ipykernel)",
   "language": "python",
   "name": "python3"
  },
  "language_info": {
   "codemirror_mode": {
    "name": "ipython",
    "version": 3
   },
   "file_extension": ".py",
   "mimetype": "text/x-python",
   "name": "python",
   "nbconvert_exporter": "python",
   "pygments_lexer": "ipython3",
   "version": "3.9.7"
  }
 },
 "nbformat": 4,
 "nbformat_minor": 4
}
