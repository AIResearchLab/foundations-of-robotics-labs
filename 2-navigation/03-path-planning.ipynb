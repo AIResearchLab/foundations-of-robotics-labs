{
 "cells": [
  {
   "cell_type": "markdown",
   "metadata": {},
   "source": [
    "# Path Planning\n",
    "\n",
    "[![nbviewer](https://raw.githubusercontent.com/jupyter/design/master/logos/Badges/nbviewer_badge.svg)](https://nbviewer.jupyter.org/github/AIResearchLab/foundations-of-robotics-labs/blob/master/2-navigation/03-path-planning.ipynb)\n",
    "[![Binder](https://mybinder.org/badge_logo.svg)](https://mybinder.org/v2/gh/AIResearchLab/foundations-of-robotics-labs/master?filepath=2-navigation/03-path-planning.ipynb)\n",
    "\n",
    "The third problem in navigation is to work out how to get to where you want to go.\n",
    "\n",
    "Let's say that you now have a map and you know where you are on it. You also know where you want to go. The next step is to work out how to get there. In robotics, this problem is known as path planning. It is a very well studied problem and there are many algorithms that can be used to solve it. In this notebook, we will look at one of the simplest algorithms, the A* algorithm."
   ]
  },
  {
   "cell_type": "markdown",
   "metadata": {},
   "source": [
    "## A* Algorithm (A Star)\n",
    "\n",
    "The A* algorithm is a very simple algorithm that can be used to find a path from a start point to a goal point. It is a very popular algorithm because it is very fast and it is guaranteed to find the shortest path if one exists. The algorithm works by searching the map for the goal point. It starts at the start point and then looks at all the points around it. It then looks at all the points around those points and so on. It keeps track of the distance from the start point to each point and the distance from each point to the goal point. It then chooses the point that is closest to the goal point and repeats the process. It keeps doing this until it finds the goal point. It then works backwards from the goal point to the start point to find the shortest path."
   ]
  },
  {
   "cell_type": "markdown",
   "metadata": {},
   "source": [
    "#### An A* algorithm example\n",
    "\n",
    "<iframe src=\"https://gist.github.com/Nicholas-Swift/003e1932ef2804bebef2710527008f44\">\n",
    "</iframe>\n",
    "\n",
    "<script src=\"https://gist.github.com/Nicholas-Swift/003e1932ef2804bebef2710527008f44.js\"></script>"
   ]
  },
  {
   "cell_type": "code",
   "execution_count": null,
   "metadata": {},
   "outputs": [],
   "source": [
    "\"\"\"\n",
    "A* example\n",
    "\n",
    "A small grid is created with a start and end point. The A* algorithm is used to\n",
    "find the shortest path between the two points. The path is then drawn on the\n",
    "grid.\n",
    "\"\"\"\n",
    "\n",
    "\n",
    "import numpy as np\n",
    "import matplotlib.pyplot as plt\n"
   ]
  }
 ],
 "metadata": {
  "language_info": {
   "name": "python"
  }
 },
 "nbformat": 4,
 "nbformat_minor": 2
}
