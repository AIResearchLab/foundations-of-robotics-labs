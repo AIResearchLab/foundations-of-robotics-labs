{
 "cells": [
  {
   "cell_type": "markdown",
   "metadata": {},
   "source": [
    "# Contrôle des joints du bras Kinova"
   ]
  },
  {
   "cell_type": "markdown",
   "metadata": {},
   "source": [
    "Ce script Python permet de contrôler les trois premiers degrés de liberté du bras robotique Gen3 Lite en envoyant des commandes conjointes. Il fonctionne autant avec le bras simulé que le bras réel."
   ]
  },
  {
   "cell_type": "markdown",
   "metadata": {},
   "source": [
    "### Le numéro de votre équipe"
   ]
  },
  {
   "cell_type": "code",
   "execution_count": 1,
   "metadata": {},
   "outputs": [],
   "source": [
    "# Insérez ici le numéro de votre équipe\n",
    "VOTRE_NUMERO_EQUIPE = 0"
   ]
  },
  {
   "cell_type": "markdown",
   "metadata": {},
   "source": [
    "### Import des paquets Python"
   ]
  },
  {
   "cell_type": "code",
   "execution_count": 2,
   "metadata": {},
   "outputs": [],
   "source": [
    "import sys; sys.path.append('/opt/ros/noetic/lib/python3/dist-packages')\n",
    "sys.path.append('/usr/lib/python3/dist-packages')\n",
    "sys.path.append('/home/admin_mec/mobile_manip_ws/devel/lib/python3/dist-packages/')\n",
    "from os import environ\n",
    "environ['ROS_MASTER_URI'] = \"http://localhost:1137{}/\".format(VOTRE_NUMERO_EQUIPE)\n",
    "import numpy as np\n",
    "import rospy\n",
    "import time\n",
    "from time import sleep\n",
    "import math\n",
    "np.set_printoptions(formatter={'float': '{: 0.3f}'.format})\n",
    "from mobile_manip.srv import ReachValues, GetValues, ReachName"
   ]
  },
  {
   "cell_type": "markdown",
   "metadata": {},
   "source": [
    "###  Fonction pour envoyer des valeurs au robot simulé dans Gazebo"
   ]
  },
  {
   "cell_type": "code",
   "execution_count": 3,
   "metadata": {},
   "outputs": [],
   "source": [
    "def send_joint_angles(ang):\n",
    "    # Create the list of angles\n",
    "    #rospy.wait_for_service('/mobile_manip/reach_joints', timeout=20)\n",
    "    reach_joints_angles = rospy.ServiceProxy('/mobile_manip/reach_joints', ReachValues)\n",
    "    return reach_joints_angles(ang)"
   ]
  },
  {
   "cell_type": "markdown",
   "metadata": {},
   "source": [
    "### Fonction de simplification pour le projet 2"
   ]
  },
  {
   "cell_type": "code",
   "execution_count": 4,
   "metadata": {},
   "outputs": [],
   "source": [
    "# Définissez les valeurs des 3 joints a controler en degrés\n",
    "def dof3control(joint1, joint2, joint3):\n",
    "    cmd = np.array([joint1, joint2, joint3, 0, 0, 0])\n",
    "    send_joint_angles(cmd)"
   ]
  },
  {
   "cell_type": "markdown",
   "metadata": {},
   "source": [
    "### Fonction pour la cinématique directe"
   ]
  },
  {
   "cell_type": "code",
   "execution_count": 5,
   "metadata": {},
   "outputs": [],
   "source": [
    "# Accepte les valeurs theta, d, a, alpha. Les angles doivent être en radians.\n",
    "def dh(theta,d,a,alpha):\n",
    "    return np.array([\n",
    "        [np.cos(theta), -1*np.sin(theta)*np.cos(alpha),    np.sin(theta)*np.sin(alpha), a*np.cos(theta)],\n",
    "        [np.sin(theta),    np.cos(theta)*np.cos(alpha), -1*np.cos(theta)*np.sin(alpha), a*np.sin(theta)],\n",
    "        [            0,                  np.sin(alpha),                  np.cos(alpha),               d],\n",
    "        [            0,                              0,                              0,               1]\n",
    "    ])"
   ]
  },
  {
   "cell_type": "markdown",
   "metadata": {},
   "source": [
    "### Calculs de cinematique inverse"
   ]
  },
  {
   "cell_type": "code",
   "execution_count": 6,
   "metadata": {
    "scrolled": true
   },
   "outputs": [],
   "source": [
    "def ik(x,y,z):\n",
    "    \n",
    "    # Calcul des angles des joints\n",
    "    px = x\n",
    "    py = y\n",
    "    pz = z\n",
    "    \n",
    "    joint1 = 0\n",
    "    joint2 = 0\n",
    "    joint3 = 0\n",
    "\n",
    "    return np.array([joint1,joint2,joint3])"
   ]
  },
  {
   "cell_type": "code",
   "execution_count": 246,
   "metadata": {
    "scrolled": false
   },
   "outputs": [],
   "source": [
    "# Mouvement vers la position de départ.\n",
    "dof3control(0,0,0)"
   ]
  },
  {
   "cell_type": "code",
   "execution_count": 7,
   "metadata": {
    "scrolled": true
   },
   "outputs": [
    {
     "name": "stdout",
     "output_type": "stream",
     "text": [
      "[ 30.017 -16.884 -43.535]\n",
      "[-122.667  29.971 -13.583]\n",
      "[-91.690  45.002 -58.540]\n"
     ]
    }
   ],
   "source": [
    "# Execution des angles pour le point X de la trajectoire.\n",
    "\n",
    "P1 = ik(0,0,0)/np.pi*180\n",
    "print(P1)\n",
    "dof3control(P1[0],P1[1],P1[2])"
   ]
  },
  {
   "cell_type": "code",
   "execution_count": 249,
   "metadata": {},
   "outputs": [
    {
     "name": "stdout",
     "output_type": "stream",
     "text": [
      "[ 3.054  678.348  379.766 -103.989 -0.099 -0.836]\n"
     ]
    }
   ],
   "source": [
    "# Vérification de la pose finale\n",
    "offsets_cart = [0.0, 0.0, 0.0]\n",
    "rospy.wait_for_service('/mobile_manip/get_cartesian')\n",
    "get_pose = rospy.ServiceProxy('/mobile_manip/get_cartesian', GetValues)\n",
    "res = get_pose()\n",
    "res_arr = np.array(res.val)\n",
    "res_arr[:3] = (res_arr[:3]-offsets_cart)*1000.0\n",
    "print(res_arr)"
   ]
  },
  {
   "cell_type": "code",
   "execution_count": null,
   "metadata": {},
   "outputs": [],
   "source": []
  },
  {
   "cell_type": "code",
   "execution_count": null,
   "metadata": {},
   "outputs": [],
   "source": []
  }
 ],
 "metadata": {
  "kernelspec": {
   "display_name": "Python 3 (ipykernel)",
   "language": "python",
   "name": "python3"
  },
  "language_info": {
   "codemirror_mode": {
    "name": "ipython",
    "version": 3
   },
   "file_extension": ".py",
   "mimetype": "text/x-python",
   "name": "python",
   "nbconvert_exporter": "python",
   "pygments_lexer": "ipython3",
   "version": "3.8.10"
  }
 },
 "nbformat": 4,
 "nbformat_minor": 4
}
