{
 "cells": [
  {
   "cell_type": "markdown",
   "metadata": {},
   "source": [
    "# Contrôle des joints du bras Kinova (Kinova arm control)\n",
    "\n",
    "[![nbviewer](https://raw.githubusercontent.com/jupyter/design/master/logos/Badges/nbviewer_badge.svg)](https://nbviewer.jupyter.org/github/AIResearchLab/foundations-of-robotics-labs/blob/master/3-kinematics/03-3dof-joint-control.ipynb)\n",
    "[![Binder](https://mybinder.org/badge_logo.svg)](https://mybinder.org/v2/gh/AIResearchLab/foundations-of-robotics-labs/master?filepath=3-kinematics/03-3dof-joint-control.ipynb)\n",
    "\n",
    "Ce script Python permet de contrôler les trois premiers degrés de liberté du bras robotique Gen3 Lite en envoyant des commandes conjointes. Il fonctionne autant avec le bras simulé que le bras réel.\n",
    "\n",
    "(en) This Python script allows to control the first three degrees of freedom of the Kinova Gen3 Lite robotic arm by sending joint commands. It works with both the simulated and the real arm.\n",
    "\n",
    "> The purpose of this notebook is to learn how to control the Kinova Gen3 Lite robotic arm using the first three joints."
   ]
  },
  {
   "cell_type": "markdown",
   "metadata": {},
   "source": [
    "## Run the Gen3 Lite Control Application\n",
    "\n",
    "> #### **Make sure to run the Gen3 Lite Control Application before running this notebook.**\n",
    "\n",
    "Start with the simulation environment, and then move to the real robot. In a terminal, run the following command:\n",
    "\n",
    "```bash\n",
    "# in a terminal on the PC\n",
    "roslaunch kortex_gazebo spawn_kortex_robot.launch arm:=gen3_lite\n",
    "\n",
    "############################################################\n",
    "# # !!!! DO NOT RUN THE SIM AND REAL AT THE SAME TIME !!!! #\n",
    "############################################################\n",
    "\n",
    "# in a terminal on the PC\n",
    "# make sure the robot is connected to the PC via USB\n",
    "roslaunch kortex_driver kortex_driver.launch arm:=gen3_lite\n",
    "```"
   ]
  },
  {
   "cell_type": "markdown",
   "metadata": {},
   "source": [
    "### Import des paquets Python (Import Python ROS packages)\n",
    "\n",
    "Just in case, let's start by importing the necessary Python packages for the ROS environment."
   ]
  },
  {
   "cell_type": "code",
   "execution_count": null,
   "metadata": {},
   "outputs": [],
   "source": [
    "\"\"\"setting up ros enrionment variables\"\"\"\n",
    "\n",
    "# this set of lines is to make sure that the python scripts can find the ROS libraries\n",
    "import sys\n",
    "sys.path.append('/opt/ros/noetic/lib/python3/dist-packages')\n",
    "sys.path.append('/usr/lib/python3/dist-packages')\n",
    "\n",
    "import os\n",
    "\n",
    "#####################################################################\n",
    "# # !!!! DON'T FORGET TO CHANGE THIS TO THE ROBOT'S IP ADDRESS !!!! #\n",
    "#####################################################################\n",
    "\n",
    "# this should be the localhost address as below\n",
    "ROBOT_HOSTNAME = '127.0.0.1' # localhost\n",
    "CONSOLE_HOSTNAME = '127.0.0.1' # localhost\n",
    "\n",
    "# the following lines set up the networking variables for the scripts to run properly\n",
    "os.environ['ROS_MASTER_URI'] = 'http://{}:11311'.format(ROBOT_HOSTNAME)\n",
    "os.environ['ROS_HOSTNAME'] = CONSOLE_HOSTNAME"
   ]
  },
  {
   "cell_type": "code",
   "execution_count": null,
   "metadata": {},
   "outputs": [],
   "source": [
    "from os import environ\n",
    "import numpy as np\n",
    "import rospy\n",
    "import time\n",
    "from time import sleep\n",
    "import math\n",
    "np.set_printoptions(formatter={'float': '{: 0.3f}'.format})\n",
    "from mobile_manip.srv import ReachValues, GetValues, ReachName"
   ]
  },
  {
   "cell_type": "markdown",
   "metadata": {},
   "source": [
    "###  Fonction pour envoyer des valeurs au robot simulé dans Gazebo\n",
    "\n",
    "### (en) Function to send values to the simulated robot in Gazebo"
   ]
  },
  {
   "cell_type": "code",
   "execution_count": null,
   "metadata": {},
   "outputs": [],
   "source": [
    "def send_joint_angles(ang):\n",
    "    # Create the list of angles\n",
    "    #rospy.wait_for_service('/mobile_manip/reach_joints', timeout=20)\n",
    "    reach_joints_angles = rospy.ServiceProxy('/mobile_manip/reach_joints', ReachValues)\n",
    "    return reach_joints_angles(ang)"
   ]
  },
  {
   "cell_type": "markdown",
   "metadata": {},
   "source": [
    "### Fonction de simplification pour le projet 2 (Simplification function for project 2)"
   ]
  },
  {
   "cell_type": "code",
   "execution_count": null,
   "metadata": {},
   "outputs": [],
   "source": [
    "# Définissez les valeurs des 3 joints a controler en degrés\n",
    "# (en) Define the values of the 3 joints to control in degrees\n",
    "def dof3control(joint1, joint2, joint3):\n",
    "    cmd = np.array([joint1, joint2, joint3, 0, 0, 0])\n",
    "    send_joint_angles(cmd)"
   ]
  },
  {
   "cell_type": "markdown",
   "metadata": {},
   "source": [
    "### Fonction pour la cinématique directe (Function for direct kinematics)"
   ]
  },
  {
   "cell_type": "code",
   "execution_count": null,
   "metadata": {},
   "outputs": [],
   "source": [
    "# Accepte les valeurs theta, d, a, alpha. Les angles doivent être en radians.\n",
    "# (en) Accepts theta, d, a, alpha values. Angles must be in radians.\n",
    "def dh(theta,d,a,alpha):\n",
    "    return np.array([\n",
    "        [np.cos(theta), -1*np.sin(theta)*np.cos(alpha),    np.sin(theta)*np.sin(alpha), a*np.cos(theta)],\n",
    "        [np.sin(theta),    np.cos(theta)*np.cos(alpha), -1*np.cos(theta)*np.sin(alpha), a*np.sin(theta)],\n",
    "        [            0,                  np.sin(alpha),                  np.cos(alpha),               d],\n",
    "        [            0,                              0,                              0,               1]\n",
    "    ])"
   ]
  },
  {
   "cell_type": "markdown",
   "metadata": {},
   "source": [
    "### Calculs de cinematique inverse (Inverse kinematics calculations)"
   ]
  },
  {
   "cell_type": "code",
   "execution_count": null,
   "metadata": {
    "scrolled": true
   },
   "outputs": [],
   "source": [
    "def ik(x,y,z):\n",
    "\n",
    "    # Calcul des angles des joints\n",
    "    # (en) Calculation of joint angles\n",
    "    px = x\n",
    "    py = y\n",
    "    pz = z\n",
    "\n",
    "    joint1 = 0\n",
    "    joint2 = 0\n",
    "    joint3 = 0\n",
    "\n",
    "    return np.array([joint1,joint2,joint3])"
   ]
  },
  {
   "cell_type": "code",
   "execution_count": null,
   "metadata": {
    "scrolled": false
   },
   "outputs": [],
   "source": [
    "# Mouvement vers la position de départ.\n",
    "# (en) Movement to the starting position.\n",
    "dof3control(0,0,0)"
   ]
  },
  {
   "cell_type": "code",
   "execution_count": null,
   "metadata": {
    "scrolled": true
   },
   "outputs": [],
   "source": [
    "# Execution des angles pour le point X de la trajectoire.\n",
    "# (en) Execution of angles for point X of the trajectory.\n",
    "\n",
    "P1 = ik(0,0,0)/np.pi*180\n",
    "print(P1)\n",
    "dof3control(P1[0],P1[1],P1[2])"
   ]
  },
  {
   "cell_type": "code",
   "execution_count": null,
   "metadata": {},
   "outputs": [],
   "source": [
    "# Vérification de la pose finale\n",
    "# (en) Verification of the final pose\n",
    "offsets_cart = [0.0, 0.0, 0.0]\n",
    "rospy.wait_for_service('/mobile_manip/get_cartesian')\n",
    "get_pose = rospy.ServiceProxy('/mobile_manip/get_cartesian', GetValues)\n",
    "res = get_pose()\n",
    "res_arr = np.array(res.val)\n",
    "res_arr[:3] = (res_arr[:3]-offsets_cart)*1000.0\n",
    "print(res_arr)"
   ]
  },
  {
   "cell_type": "code",
   "execution_count": null,
   "metadata": {},
   "outputs": [],
   "source": []
  }
 ],
 "metadata": {
  "kernelspec": {
   "display_name": "Python 3 (ipykernel)",
   "language": "python",
   "name": "python3"
  },
  "language_info": {
   "codemirror_mode": {
    "name": "ipython",
    "version": 3
   },
   "file_extension": ".py",
   "mimetype": "text/x-python",
   "name": "python",
   "nbconvert_exporter": "python",
   "pygments_lexer": "ipython3",
   "version": "3.8.10"
  }
 },
 "nbformat": 4,
 "nbformat_minor": 4
}
