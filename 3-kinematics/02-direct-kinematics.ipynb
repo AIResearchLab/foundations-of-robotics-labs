{
 "cells": [
  {
   "cell_type": "markdown",
   "metadata": {},
   "source": [
    "# Direct Kinematics\n",
    "\n",
    "[![nbviewer](https://raw.githubusercontent.com/jupyter/design/master/logos/Badges/nbviewer_badge.svg)](https://nbviewer.jupyter.org/github/AIResearchLab/foundations-of-robotics-labs/blob/master/3-kinematics/02-direct-kinematics.ipynb)\n",
    "[![Binder](https://mybinder.org/badge_logo.svg)](https://mybinder.org/v2/gh/AIResearchLab/foundations-of-robotics-labs/master?filepath=3-kinematics/02-direct-kinematics.ipynb)\n",
    "\n",
    "This notebook looks at direct kinematics. The notebook contains functions to compute the position of the End-effector (EE) of the Kinova Gen3 lite from the joint positions.\n",
    "\n",
    "> The purpose of this notebook is to start understanding the kinematics of a robot manipulator such as the Kinova Gen3 lite."
   ]
  },
  {
   "cell_type": "markdown",
   "metadata": {},
   "source": [
    "## An Introduction to DH parameters\n",
    "\n",
    "<iframe width=\"936\" height=\"527\" src=\"https://www.youtube.com/embed/yRGlxcqWOSs\" title=\"Denavit-Hartenberg notation\" frameborder=\"0\" allow=\"accelerometer; autoplay; clipboard-write; encrypted-media; gyroscope; picture-in-picture; web-share\" allowfullscreen></iframe>"
   ]
  },
  {
   "cell_type": "code",
   "execution_count": null,
   "metadata": {},
   "outputs": [],
   "source": [
    "# import some common math and matrix libraries\n",
    "import math\n",
    "import numpy as np\n",
    "np.set_printoptions(formatter={'float': '{: 0.3f}'.format})"
   ]
  },
  {
   "cell_type": "markdown",
   "metadata": {},
   "source": [
    "### Calcul de la cinématique directe. (direct kinematics)\n",
    "\n",
    "The selected Python code defines a function named `dh` that calculates a [Denavit-Hartenberg (DH) matrix](https://en.wikipedia.org/wiki/Denavit%E2%80%93Hartenberg_parameters). The DH matrix is a transformation matrix used in robotics to simplify the process of calculating the position and orientation of robot manipulators. \n",
    "\n",
    "The function `dh` takes four arguments: `theta`, `d`, `a`, and `alpha`. These parameters represent joint angle, link offset, link length, and link twist, respectively, in the DH convention. The parameters `d` and `a` are expected to be in millimeters, while `theta` and `alpha` are expected to be in degrees.\n",
    "\n",
    "Inside the function, the `math.radians` function is used to convert `theta` and `alpha` from degrees to radians, as trigonometric functions in Python's `math` and `numpy` libraries expect angles to be in radians.\n",
    "\n",
    "The function then returns a 4x4 numpy array, which represents the DH transformation matrix. This matrix is used to transform coordinates from one frame to another in a robotic manipulator. The matrix is composed of rotation and displacement components, which are calculated using the input parameters and basic trigonometric functions.\n",
    "\n",
    "[![DH Diagram Wikipedia](https://en.wikipedia.org/wiki/Denavit%E2%80%93Hartenberg_parameters#/media/File:Sample_Denavit-Hartenberg_Diagram.png)](https://en.wikipedia.org/wiki/Denavit%E2%80%93Hartenberg_parameters#/media/File:Sample_Denavit-Hartenberg_Diagram.png)"
   ]
  },
  {
   "cell_type": "code",
   "execution_count": null,
   "metadata": {},
   "outputs": [],
   "source": [
    "# Fonction dh(theta, d, a, alpha)\n",
    "# Arguments: d et a en mm; theta et alpha en degrées.\n",
    "# Sortie: Matrice homogène.\n",
    "# (en) Function dh(theta, d, a, alpha)\n",
    "# Arguments: d and a in mm; theta and alpha in degrees.\n",
    "# Output: Homogeneous matrix.\n",
    "def dh(theta,d,a,alpha):\n",
    "    theta = math.radians(theta)\n",
    "    alpha = math.radians(alpha)\n",
    "    return np.array([\n",
    "        [np.cos(theta), -1*np.sin(theta)*np.cos(alpha),    np.sin(theta)*np.sin(alpha), a*np.cos(theta)],\n",
    "        [np.sin(theta),    np.cos(theta)*np.cos(alpha), -1*np.cos(theta)*np.sin(alpha), a*np.sin(theta)],\n",
    "        [            0,                  np.sin(alpha),                  np.cos(alpha),               d],\n",
    "        [            0,                              0,                              0,               1]\n",
    "    ])"
   ]
  },
  {
   "cell_type": "markdown",
   "metadata": {},
   "source": [
    "## DH in DK\n",
    "\n",
    "The [direct kinematics (DK)](https://en.wikipedia.org/wiki/Forward_kinematics) problem is to find the position and orientation of the end-effector (EE) of a robot manipulator given the joint angles. The DH matrix is used to calculate the transformation from the base frame to the end-effector frame. By multiplying the DH matrices for each joint, we can obtain the transformation matrix from the base frame to the end-effector frame."
   ]
  },
  {
   "cell_type": "code",
   "execution_count": null,
   "metadata": {},
   "outputs": [],
   "source": [
    "# Fonction dk(x, y, z, w, p, r)\n",
    "# Arguments: Theta 1, Theta 2 , Theta 3  en degrées.\n",
    "# Sortie: Vecteur [x, y, z, w, p, r] en mm et en degrées.\n",
    "# (en) Function dk(x, y, z, w, p, r)\n",
    "# Arguments: Theta 1, Theta 2 , Theta 3 in degrees.\n",
    "# Output: Vector [x, y, z, w, p, r] in mm and degrees.\n",
    "def dk(t1,t2,t3):\n",
    "    H10 = dh(t1,243.3,0,90)\n",
    "    H21 = dh(t2+90,10,280,180)\n",
    "    H32 = dh(t3+90,0,57,90)\n",
    "    Htool3 = dh(0,480,0,0)\n",
    "\n",
    "    H = np.matmul(H10, H21)\n",
    "    H = np.matmul(H, H32)\n",
    "    H = np.matmul(H, Htool3)\n",
    "\n",
    "    if abs(H[2,0]) == 1:\n",
    "        p = -H[2,0]*np.pi/2\n",
    "        w = 0 # valeur arbitraire, on choisit w = 0\n",
    "        r = np.degrees(np.arctan2(-H[2,0]*H[1,2], H[1,1])) #*180/np.pi\n",
    "    else:\n",
    "        p = np.arctan2(-H[2,0], math.sqrt(math.pow(H[0,0],2)+math.pow(H[1,0],2)))\n",
    "        cp = np.cos(p)\n",
    "        r = np.arctan2(H[1,0]/cp, H[0,0]/cp)\n",
    "        w = np.arctan2(H[2,1]/cp, H[2,2]/cp)\n",
    "\n",
    "        p = np.degrees(p)\n",
    "        r = np.degrees(r)\n",
    "        w = np.degrees(w)\n",
    "\n",
    "    return np.array([H[0,3], H[1,3], H[2,3], w, p, r])"
   ]
  },
  {
   "cell_type": "code",
   "execution_count": null,
   "metadata": {},
   "outputs": [],
   "source": [
    "# Essai de la fonction dk(t1,t2,t3)\n",
    "# Test of the function dk(t1,t2,t3)\n",
    "pose = dk(0,0,0)\n",
    "print(pose)\n",
    "# En entrant les valeurs suivantes dans votre fonction ik(x,y,z,w,p,r)\n",
    "# vous devriez retrouver les angles passés en paramètre à dk(t1,t2,t3).\n",
    "# Essayez avec plusieurs valeurs afin de valider vos calculs.\n",
    "# (en) By entering the following values in your function ik(x,y,z,w,p,r)\n",
    "# you should find the angles passed as parameter to dk(t1,t2,t3).\n",
    "# Try with several values to validate your calculations."
   ]
  },
  {
   "cell_type": "code",
   "execution_count": null,
   "metadata": {},
   "outputs": [],
   "source": []
  }
 ],
 "metadata": {
  "kernelspec": {
   "display_name": "Python 3",
   "language": "python",
   "name": "python3"
  },
  "language_info": {
   "codemirror_mode": {
    "name": "ipython",
    "version": 3
   },
   "file_extension": ".py",
   "mimetype": "text/x-python",
   "name": "python",
   "nbconvert_exporter": "python",
   "pygments_lexer": "ipython3",
   "version": "3.1.0"
  }
 },
 "nbformat": 4,
 "nbformat_minor": 4
}
