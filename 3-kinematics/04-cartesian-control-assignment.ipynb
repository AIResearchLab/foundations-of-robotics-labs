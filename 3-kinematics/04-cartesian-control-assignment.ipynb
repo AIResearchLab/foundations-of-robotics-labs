{
 "cells": [
  {
   "cell_type": "markdown",
   "metadata": {},
   "source": [
    "# Cartesian Control Assignment\n",
    "\n",
    "[![nbviewer](https://raw.githubusercontent.com/jupyter/design/master/logos/Badges/nbviewer_badge.svg)](https://nbviewer.jupyter.org/github/AIResearchLab/foundations-of-robotics-labs/blob/master/3-kinematics/04-cartesian-control-assignment.ipynb)\n",
    "[![Binder](https://mybinder.org/badge_logo.svg)](https://mybinder.org/v2/gh/AIResearchLab/foundations-of-robotics-labs/master?filepath=3-kinematics/04-cartesian-control-assignment.ipynb)\n",
    "\n",
    "The goal of this assignment is to implement a Cartesian controller for the kinova gen3 lite arm. The controller should take a desired end-effector pose and compute the joint velocities that will move the end-effector to the desired pose. The controller should be implemented as a ROS node and should be able to receive the desired end-effector pose from a topic."
   ]
  },
  {
   "cell_type": "code",
   "execution_count": null,
   "metadata": {},
   "outputs": [],
   "source": []
  }
 ],
 "metadata": {
  "language_info": {
   "name": "python"
  }
 },
 "nbformat": 4,
 "nbformat_minor": 2
}
